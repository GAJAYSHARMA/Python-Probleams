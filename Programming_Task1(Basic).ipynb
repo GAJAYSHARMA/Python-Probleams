{
  "nbformat": 4,
  "nbformat_minor": 0,
  "metadata": {
    "colab": {
      "provenance": []
    },
    "kernelspec": {
      "name": "python3",
      "display_name": "Python 3"
    },
    "language_info": {
      "name": "python"
    }
  },
  "cells": [
    {
      "cell_type": "markdown",
      "source": [
        "#1st \"Hello World\"\n"
      ],
      "metadata": {
        "id": "lMyNK1v0MaUi"
      }
    },
    {
      "cell_type": "code",
      "source": [
        "print(\"Hello, World!\")"
      ],
      "metadata": {
        "colab": {
          "base_uri": "https://localhost:8080/"
        },
        "id": "zHACHd6DMlM2",
        "outputId": "693f3fed-dbff-43ed-ac14-a0990ea53865"
      },
      "execution_count": null,
      "outputs": [
        {
          "output_type": "stream",
          "name": "stdout",
          "text": [
            "Hello, World!\n"
          ]
        }
      ]
    },
    {
      "cell_type": "markdown",
      "source": [
        "#2nd Arithmetic operators \n"
      ],
      "metadata": {
        "id": "ZZDhysGwMZPC"
      }
    },
    {
      "cell_type": "code",
      "source": [
        "if __name__ == '__main__':\n",
        "    a = int(input())\n",
        "    b = int(input())\n",
        "     \n",
        "    print(a+b)\n",
        "    print(a-b)\n",
        "    print(a*b)"
      ],
      "metadata": {
        "colab": {
          "base_uri": "https://localhost:8080/"
        },
        "id": "FC1afIjIpqml",
        "outputId": "13bc1d48-606a-4972-e81c-62f73bff1c8c"
      },
      "execution_count": 1,
      "outputs": [
        {
          "output_type": "stream",
          "name": "stdout",
          "text": [
            "5\n",
            "5\n",
            "10\n",
            "0\n",
            "25\n"
          ]
        }
      ]
    },
    {
      "cell_type": "markdown",
      "source": [
        "#3rd PYTHON IF-ELSE "
      ],
      "metadata": {
        "id": "ZdaLmLDUvpVw"
      }
    },
    {
      "cell_type": "code",
      "source": [
        "#!/bin/python3\n",
        "\n",
        "import math\n",
        "import os\n",
        "import random\n",
        "import re\n",
        "import sys\n",
        "\n",
        "\n",
        "\n",
        "if __name__ == '__main__':\n",
        "    n = int(input().strip())\n",
        "\n",
        "    if (n%2!=0) or (n>=6 and n<=20):\n",
        "        print('Weird')\n",
        "    else:\n",
        "        print('Not Weird') "
      ],
      "metadata": {
        "id": "eW7HeMvqvo6a",
        "colab": {
          "base_uri": "https://localhost:8080/"
        },
        "outputId": "fcd36873-0ee2-43b3-e99f-83fe380220d7"
      },
      "execution_count": 3,
      "outputs": [
        {
          "output_type": "stream",
          "name": "stdout",
          "text": [
            "5\n",
            "Weird\n"
          ]
        }
      ]
    },
    {
      "cell_type": "markdown",
      "source": [
        "#4th Division \n"
      ],
      "metadata": {
        "id": "X0eajRPEk0fh"
      }
    },
    {
      "cell_type": "code",
      "source": [
        "#4th Division \n",
        "if __name__ == '__main__':\n",
        "    a = int(input())\n",
        "    b = int(input())\n",
        "    \n",
        "    print(a//b)\n",
        "    print(a/b) \n"
      ],
      "metadata": {
        "id": "lwUxiw7qod-k"
      },
      "execution_count": null,
      "outputs": []
    },
    {
      "cell_type": "markdown",
      "source": [
        "#5th LOOP\n"
      ],
      "metadata": {
        "id": "5t20Xpsek_bD"
      }
    },
    {
      "cell_type": "code",
      "source": [
        "#5th \n",
        "if __name__ == '__main__':\n",
        "    n = int(input())\n",
        "    \n",
        "    for i in range(0,n,):\n",
        "        print(i*i)"
      ],
      "metadata": {
        "colab": {
          "base_uri": "https://localhost:8080/"
        },
        "id": "eOPfJiN4bFfo",
        "outputId": "1da640e1-ed1a-4bf7-e5fe-97d5904a0f31"
      },
      "execution_count": 2,
      "outputs": [
        {
          "output_type": "stream",
          "name": "stdout",
          "text": [
            "5\n",
            "0\n",
            "1\n",
            "4\n",
            "9\n",
            "16\n"
          ]
        }
      ]
    },
    {
      "cell_type": "markdown",
      "source": [
        "#6th fuction"
      ],
      "metadata": {
        "id": "u03kCxwqlEoK"
      }
    },
    {
      "cell_type": "code",
      "source": [
        "#6th fuction\n",
        "\n",
        "def is_leap(year):\n",
        "    if year % 400 == 0:\n",
        "        return True\n",
        "    if year % 100 == 0:\n",
        "        return False\n",
        "    if year % 4 == 0:\n",
        "        return True\n",
        "    return False\n",
        "year = int(input())\n",
        "print(is_leap(year))"
      ],
      "metadata": {
        "colab": {
          "base_uri": "https://localhost:8080/"
        },
        "id": "0Lg7PyOvcj4E",
        "outputId": "38ebc3c5-113a-438d-df44-1141c8bbbad6"
      },
      "execution_count": 3,
      "outputs": [
        {
          "output_type": "stream",
          "name": "stdout",
          "text": [
            "1998\n",
            "False\n"
          ]
        }
      ]
    },
    {
      "cell_type": "markdown",
      "source": [
        "#7th Print Function"
      ],
      "metadata": {
        "id": "9ZhVVJFnmkpk"
      }
    },
    {
      "cell_type": "code",
      "source": [
        "if __name__ == '__main__':\n",
        "    n = int(input())\n",
        "    \n",
        "    for i in range(1,n+1):\n",
        "        print(i,end=\"\")"
      ],
      "metadata": {
        "colab": {
          "base_uri": "https://localhost:8080/"
        },
        "id": "fGVNgwz8jP99",
        "outputId": "2b7ea1ca-eaab-4117-e9be-5141bf4f31eb"
      },
      "execution_count": 4,
      "outputs": [
        {
          "output_type": "stream",
          "name": "stdout",
          "text": [
            "32\n",
            "1234567891011121314151617181920212223242526272829303132"
          ]
        }
      ]
    }
  ]
}